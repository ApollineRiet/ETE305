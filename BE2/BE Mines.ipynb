{
 "cells": [
  {
   "cell_type": "markdown",
   "metadata": {},
   "source": [
    "# BE Optimisation combinatoire: planification d'une mine à ciel ouvert\n",
    "\n",
    "Une mine à ciel ouvert est un type d'exploitation minière sans galerie sous-terraine, où on creuse progressivement le sol pour en extraire le minerai.\n",
    "\n",
    "<img src=\"./imagePIT.jpeg\" alt=\"Pit Mine\" style=\"width: 500px;\"/>\n",
    "\n",
    "Le positionnement dans le sol des zones intéressantes à prélever, ainsi que les pourcentages en minerai et la facilité ou difficulté de prélèvement, sont donnés par les études géologiques. L'extraction de minerai est réalisée par blocs élémentaires (que l'on supposera cubiques). Suivant le pourcentage en minerai et la facilité d'extraction, on associera un coût positif ou négatif à l'extraction du bloc. De plus, des considérations de séquence et de géométrie viennent contraindre l'extraction. \n",
    "\n",
    "L'objectif de ce BE est de modéliser et résoudre un problème de planification de l'exploitation d'une mine à ciel ouvert afin de déterminer :\n",
    "> -  l'ensemble des blocs à prélever pendant la durée d'exploitation de la mine\n",
    "\n",
    "> -  la séquence d'extraction de ces blocs.\n",
    "\n",
    "Pour cela, on utilisera la programmation linéaire en nombres entiers pour représenter les différentes contraintes et la fonction objectif.\n",
    "\n",
    "`Source : Michel Gamache, Recherche opérationnelle minière, cours de l'Ecole Polytechnique de Montréal département de génie des mines.`\n",
    "\n",
    "\n",
    "## 1. Détermination des contours ultimes de la mine\n",
    "Les contours ultimes d'une mine à ciel ouvert représentent les contours géométriques de la mine après son exploitation ou encore ils représentent l'allure de la mine à la fin de sa vie économique. Les contours optimaux sont ceux qui permettent de maximiser les profits.\n",
    "La détermination des contours ultimes d'une mine à ciel ouvert est essentielle pour une planification adéquate. elle permet entre autres d'estimer la quantité de minerai qu'il sera possible d'extraire du gisement, d'estimer la durée économique de l'exploitation, de planifier la dimension des installations de surface et de la machinerie et de planifier la capacité de production. La connaissance des contours permet également de planifier et d'organiser les séquences d'exploitation à court, moyen et long terme.\n",
    "\n",
    "### 1.1 Contraintes d'extraction\n",
    "La première contrainte à respecter est l'ordre d'extraction des blocs : chaque bloc ne peut être extrait que si les blocs qui le chapeautent dans le gisement sont extraits.\n",
    "<img src=\"./Extract.png\" alt=\"Extract\" style=\"width: 250px;\"/>\n",
    "\n",
    "La seconde contrainte concerne la pente maximale des talus bordant la zone d'extraction. Dans ce\n",
    "travail, pour simplifier le problème, on considèrera que les blocs extraits sont cubiques et que la pente\n",
    "maximale est de 45°.\n",
    "\n",
    "### 1.2 Exemple\n",
    "Pour ce BE, nous allons travailler en deux dimensions, selon une section de la mine. La figure ci-dessous représente la section pour laquelle sont indiquées les coûts associés aux blocs. L'axe vertical représente la profondeur de la mine. La portion représentée en vert correspond à une zone de minerai, intéressante à exploiter. Lorsque les coûts sont positifs, leur extraction apporte un gain à la mine, sinon ils coûtent de l'argent. Mais pour extraire un bloc intéressant, il est nécessaire d'extraire tous les blocs qui sont au dessus de lui (son \"cône d'extraction\"), donc globalement le bilan de son extraction peut ne pas être intéressant.\n",
    "\n",
    "<img src=\"./Section.png\" alt=\"Section\" style=\"width: 600px;\"/>\n",
    "\n",
    "La détermination du contour ultime consiste à optimiser le revenu d'extraction de la mine, en respectant les contraintes d'extraction. La solution de l'exemple précédent est donnée ci-dessous. La valeur obtenue est 137.\n",
    "\n",
    "<img src=\"./Section2.png\" alt=\"Contour ultime\" style=\"width: 600px;\"/>\n",
    "\n",
    "### 1.3 Modélisation\n",
    "Afin de résoudre ce problème d'optimisation en utilisant la programmation linéaire en nombres entiers, il faut choisir des variables de décision permettant d'écrire les différentes contraintes du problème ainsi que la fonction objectif sous la formes de relations linéaires. Pour cela on utilisera des variables binaires $extract_{ij}$ permettant d'indiquer si un bloc est extrait ou non."
   ]
  },
  {
   "cell_type": "markdown",
   "metadata": {},
   "source": [
    "<div class=\"alert alert-warning\"> \n",
    "    \n",
    "**Question :**<br>\n",
    "Les contraintes d'extraction d'un bloc $(ij)$ peuvent s'écrire de la manière suivante:\n",
    "\n",
    "$extract_{ij}\\Rightarrow extract_{i'j'} \\quad \\forall (i'j')\\in \\text{cône d'extraction de }(ij)$\n",
    "\n",
    "Modéliser ces contraintes sous la forme de relations linéaires impliquant les variables binaires $extract$.\n",
    "\n",
    "Préciser comment ces contraintes permettent de satisfaire les contraintes de pente maximale.\n",
    "<div>"
   ]
  },
  {
   "cell_type": "markdown",
   "metadata": {},
   "source": [
    "<div class=\"alert alert-danger\">\n",
    "\n",
    "**Réponse** :<br> $\\displaystyle 3\\times extract_{i,j} \\leq\\sum_{j'=j-1}^{j+1} extract_{i-1,j'}$<br>On aura bien une pente de 45° puisque les blocs sont cubiques, et quon doit avoir enlevé les 2 du côté avant d'enlever celui en dessous au milieu.\n",
    " \n",
    "</div>"
   ]
  },
  {
   "cell_type": "markdown",
   "metadata": {},
   "source": [
    "<div class=\"alert alert-warning\"> \n",
    "    \n",
    "**Question :**<br>\n",
    "Ecrire la fonction objectif. Le tableau des valeurs de coût sera nommé \"mine\".\n",
    "<div>"
   ]
  },
  {
   "cell_type": "markdown",
   "metadata": {},
   "source": [
    "<div class=\"alert alert-danger\">\n",
    "\n",
    "**Réponse** :<br>On recherche $\\max z = \\sum_{i,j} extract_{i,j}\\times mine_{i,j}$  \n",
    " \n",
    "</div>"
   ]
  },
  {
   "cell_type": "markdown",
   "metadata": {},
   "source": [
    "<div class=\"alert alert-warning\"> \n",
    "    \n",
    "**Question :**<br>\n",
    "Ecrire le code Pulp permettant de résoudre le problème du contour ultime. Les données sont celles de l'exemple ci-dessus.\n",
    "\n",
    "Le code donné ci-dessous permet de représenter graphiquement la solution\n",
    "<div>"
   ]
  },
  {
   "cell_type": "code",
   "execution_count": 2,
   "metadata": {},
   "outputs": [
    {
     "output_type": "stream",
     "name": "stdout",
     "text": [
      "Defaulting to user installation because normal site-packages is not writeable\n",
      "Collecting pulp\n",
      "  Downloading PuLP-2.7.0-py3-none-any.whl (14.3 MB)\n",
      "\u001b[2K     \u001b[90m━━━━━━━━━━━━━━━━━━━━━━━━━━━━━━━━━━━━━━━━\u001b[0m \u001b[32m14.3/14.3 MB\u001b[0m \u001b[31m3.7 MB/s\u001b[0m eta \u001b[36m0:00:00\u001b[0m\n",
      "\u001b[?25hInstalling collected packages: pulp\n",
      "Successfully installed pulp-2.7.0\n"
     ]
    }
   ],
   "source": [
    "import numpy as np\n",
    "%matplotlib inline\n",
    "import matplotlib.pyplot as plt\n",
    "\n",
    "# Commenter cette ligne si vous avez installé Anaconda et la bibliothèque PuLP sur votre ordinateur\n",
    "!pip install pulp\n",
    "\n",
    "import pulp"
   ]
  },
  {
   "cell_type": "code",
   "execution_count": 3,
   "metadata": {},
   "outputs": [
    {
     "output_type": "stream",
     "name": "stdout",
     "text": [
      "Status:  Optimal\nVariables:  1.0 1.0 1.0 1.0 1.0 1.0 1.0 1.0 1.0 1.0 1.0 1.0 1.0 1.0 1.0 0.0 0.0 0.0 0.0 1.0 1.0 1.0 1.0 1.0 1.0 1.0 1.0 1.0 1.0 1.0 1.0 1.0 0.0 0.0 0.0 0.0 0.0 0.0 0.0 1.0 1.0 1.0 1.0 1.0 1.0 1.0 1.0 1.0 1.0 0.0 0.0 0.0 0.0 0.0 0.0 0.0 0.0 0.0 1.0 1.0 1.0 1.0 1.0 1.0 1.0 1.0 0.0 0.0 0.0 0.0 0.0 0.0 0.0 0.0 0.0 0.0 0.0 1.0 1.0 1.0 1.0 1.0 1.0 0.0 0.0 0.0 0.0 0.0 0.0 0.0 0.0 0.0 0.0 0.0 0.0 0.0 1.0 1.0 1.0 1.0 0.0 0.0 0.0 0.0 0.0 0.0 0.0 0.0 0.0 0.0 0.0 0.0 0.0 0.0 0.0 1.0 1.0 0.0 0.0 0.0 0.0 0.0 0.0 0.0 0.0 0.0 0.0 0.0 0.0 0.0 0.0 0.0 0.0 0.0 0.0 0.0 0.0 0.0 0.0 0.0 0.0 0.0 0.0 0.0 \nObjective:  137.0\n"
     ]
    },
    {
     "output_type": "execute_result",
     "data": {
      "text/plain": [
       "137.0"
      ]
     },
     "metadata": {},
     "execution_count": 3
    },
    {
     "output_type": "display_data",
     "data": {
      "text/plain": "<Figure size 640x480 with 2 Axes>",
      "image/svg+xml": "<?xml version=\"1.0\" encoding=\"utf-8\" standalone=\"no\"?>\n<!DOCTYPE svg PUBLIC \"-//W3C//DTD SVG 1.1//EN\"\n  \"http://www.w3.org/Graphics/SVG/1.1/DTD/svg11.dtd\">\n<!-- Created with matplotlib (https://matplotlib.org/) -->\n<svg height=\"290.190125pt\" version=\"1.1\" viewBox=\"0 0 366.362288 290.190125\" width=\"366.362288pt\" xmlns=\"http://www.w3.org/2000/svg\" xmlns:xlink=\"http://www.w3.org/1999/xlink\">\n <defs>\n  <style type=\"text/css\">\n*{stroke-linecap:butt;stroke-linejoin:round;}\n  </style>\n </defs>\n <g id=\"figure_1\">\n  <g id=\"patch_1\">\n   <path d=\"M 0 290.190125 \nL 366.362288 290.190125 \nL 366.362288 0 \nL 0 0 \nz\n\" style=\"fill:#ffffff;\"/>\n  </g>\n  <g id=\"axes_1\">\n   <g id=\"patch_2\">\n    <path d=\"M 20.5625 207.543219 \nL 306.2585 207.543219 \nL 306.2585 80.567219 \nL 20.5625 80.567219 \nz\n\" style=\"fill:#ffffff;\"/>\n   </g>\n   <g clip-path=\"url(#p232e18e012)\">\n    <image height=\"8\" id=\"imagef9140fecc5\" transform=\"matrix(15.888889 0 0 15.875 20.5625 80.543219)\" width=\"18\" xlink:href=\"data:image/png;base64,\niVBORw0KGgoAAAANSUhEUgAAABIAAAAICAYAAAD0g6+qAAAABHNCSVQICAgIfAhkiAAAAJ1JREFUKJFjdGEM+c+ABKRO8DLMlzvMwMDAwGCbnc7Atf4kAzGAiYGBgSHz9h24wJ1OLThbpfwaiuIna7UZnqzVxmoQI7qLsLmKgYGBoMuYsAk+s/gMN+Dw1JkYLiPaIJgLEh/ZMjAwMDDMlzvM8C3QHK9BLLgkMm/fYQjg/sLAwMDAkPjIljyvMTAwMExXVSHJRTgNYmBAxCAxLgIAn44yu78c6ZoAAAAASUVORK5CYII=\"/>\n   </g>\n   <g id=\"matplotlib.axis_1\">\n    <g id=\"xtick_1\">\n     <g id=\"line2d_1\">\n      <defs>\n       <path d=\"M 0 0 \nL 0 3.5 \n\" id=\"m4fba10d049\" style=\"stroke:#000000;stroke-width:0.8;\"/>\n      </defs>\n      <g>\n       <use style=\"stroke:#000000;stroke-width:0.8;\" x=\"28.4985\" xlink:href=\"#m4fba10d049\" y=\"207.543219\"/>\n      </g>\n     </g>\n     <g id=\"text_1\">\n      <!-- 0 -->\n      <defs>\n       <path d=\"M 31.78125 66.40625 \nQ 24.171875 66.40625 20.328125 58.90625 \nQ 16.5 51.421875 16.5 36.375 \nQ 16.5 21.390625 20.328125 13.890625 \nQ 24.171875 6.390625 31.78125 6.390625 \nQ 39.453125 6.390625 43.28125 13.890625 \nQ 47.125 21.390625 47.125 36.375 \nQ 47.125 51.421875 43.28125 58.90625 \nQ 39.453125 66.40625 31.78125 66.40625 \nz\nM 31.78125 74.21875 \nQ 44.046875 74.21875 50.515625 64.515625 \nQ 56.984375 54.828125 56.984375 36.375 \nQ 56.984375 17.96875 50.515625 8.265625 \nQ 44.046875 -1.421875 31.78125 -1.421875 \nQ 19.53125 -1.421875 13.0625 8.265625 \nQ 6.59375 17.96875 6.59375 36.375 \nQ 6.59375 54.828125 13.0625 64.515625 \nQ 19.53125 74.21875 31.78125 74.21875 \nz\n\" id=\"DejaVuSans-48\"/>\n      </defs>\n      <g transform=\"translate(25.31725 222.141656)scale(0.1 -0.1)\">\n       <use xlink:href=\"#DejaVuSans-48\"/>\n      </g>\n     </g>\n    </g>\n    <g id=\"xtick_2\">\n     <g id=\"line2d_2\">\n      <g>\n       <use style=\"stroke:#000000;stroke-width:0.8;\" x=\"60.2425\" xlink:href=\"#m4fba10d049\" y=\"207.543219\"/>\n      </g>\n     </g>\n     <g id=\"text_2\">\n      <!-- 2 -->\n      <defs>\n       <path d=\"M 19.1875 8.296875 \nL 53.609375 8.296875 \nL 53.609375 0 \nL 7.328125 0 \nL 7.328125 8.296875 \nQ 12.9375 14.109375 22.625 23.890625 \nQ 32.328125 33.6875 34.8125 36.53125 \nQ 39.546875 41.84375 41.421875 45.53125 \nQ 43.3125 49.21875 43.3125 52.78125 \nQ 43.3125 58.59375 39.234375 62.25 \nQ 35.15625 65.921875 28.609375 65.921875 \nQ 23.96875 65.921875 18.8125 64.3125 \nQ 13.671875 62.703125 7.8125 59.421875 \nL 7.8125 69.390625 \nQ 13.765625 71.78125 18.9375 73 \nQ 24.125 74.21875 28.421875 74.21875 \nQ 39.75 74.21875 46.484375 68.546875 \nQ 53.21875 62.890625 53.21875 53.421875 \nQ 53.21875 48.921875 51.53125 44.890625 \nQ 49.859375 40.875 45.40625 35.40625 \nQ 44.1875 33.984375 37.640625 27.21875 \nQ 31.109375 20.453125 19.1875 8.296875 \nz\n\" id=\"DejaVuSans-50\"/>\n      </defs>\n      <g transform=\"translate(57.06125 222.141656)scale(0.1 -0.1)\">\n       <use xlink:href=\"#DejaVuSans-50\"/>\n      </g>\n     </g>\n    </g>\n    <g id=\"xtick_3\">\n     <g id=\"line2d_3\">\n      <g>\n       <use style=\"stroke:#000000;stroke-width:0.8;\" x=\"91.9865\" xlink:href=\"#m4fba10d049\" y=\"207.543219\"/>\n      </g>\n     </g>\n     <g id=\"text_3\">\n      <!-- 4 -->\n      <defs>\n       <path d=\"M 37.796875 64.3125 \nL 12.890625 25.390625 \nL 37.796875 25.390625 \nz\nM 35.203125 72.90625 \nL 47.609375 72.90625 \nL 47.609375 25.390625 \nL 58.015625 25.390625 \nL 58.015625 17.1875 \nL 47.609375 17.1875 \nL 47.609375 0 \nL 37.796875 0 \nL 37.796875 17.1875 \nL 4.890625 17.1875 \nL 4.890625 26.703125 \nz\n\" id=\"DejaVuSans-52\"/>\n      </defs>\n      <g transform=\"translate(88.80525 222.141656)scale(0.1 -0.1)\">\n       <use xlink:href=\"#DejaVuSans-52\"/>\n      </g>\n     </g>\n    </g>\n    <g id=\"xtick_4\">\n     <g id=\"line2d_4\">\n      <g>\n       <use style=\"stroke:#000000;stroke-width:0.8;\" x=\"123.7305\" xlink:href=\"#m4fba10d049\" y=\"207.543219\"/>\n      </g>\n     </g>\n     <g id=\"text_4\">\n      <!-- 6 -->\n      <defs>\n       <path d=\"M 33.015625 40.375 \nQ 26.375 40.375 22.484375 35.828125 \nQ 18.609375 31.296875 18.609375 23.390625 \nQ 18.609375 15.53125 22.484375 10.953125 \nQ 26.375 6.390625 33.015625 6.390625 \nQ 39.65625 6.390625 43.53125 10.953125 \nQ 47.40625 15.53125 47.40625 23.390625 \nQ 47.40625 31.296875 43.53125 35.828125 \nQ 39.65625 40.375 33.015625 40.375 \nz\nM 52.59375 71.296875 \nL 52.59375 62.3125 \nQ 48.875 64.0625 45.09375 64.984375 \nQ 41.3125 65.921875 37.59375 65.921875 \nQ 27.828125 65.921875 22.671875 59.328125 \nQ 17.53125 52.734375 16.796875 39.40625 \nQ 19.671875 43.65625 24.015625 45.921875 \nQ 28.375 48.1875 33.59375 48.1875 \nQ 44.578125 48.1875 50.953125 41.515625 \nQ 57.328125 34.859375 57.328125 23.390625 \nQ 57.328125 12.15625 50.6875 5.359375 \nQ 44.046875 -1.421875 33.015625 -1.421875 \nQ 20.359375 -1.421875 13.671875 8.265625 \nQ 6.984375 17.96875 6.984375 36.375 \nQ 6.984375 53.65625 15.1875 63.9375 \nQ 23.390625 74.21875 37.203125 74.21875 \nQ 40.921875 74.21875 44.703125 73.484375 \nQ 48.484375 72.75 52.59375 71.296875 \nz\n\" id=\"DejaVuSans-54\"/>\n      </defs>\n      <g transform=\"translate(120.54925 222.141656)scale(0.1 -0.1)\">\n       <use xlink:href=\"#DejaVuSans-54\"/>\n      </g>\n     </g>\n    </g>\n    <g id=\"xtick_5\">\n     <g id=\"line2d_5\">\n      <g>\n       <use style=\"stroke:#000000;stroke-width:0.8;\" x=\"155.4745\" xlink:href=\"#m4fba10d049\" y=\"207.543219\"/>\n      </g>\n     </g>\n     <g id=\"text_5\">\n      <!-- 8 -->\n      <defs>\n       <path d=\"M 31.78125 34.625 \nQ 24.75 34.625 20.71875 30.859375 \nQ 16.703125 27.09375 16.703125 20.515625 \nQ 16.703125 13.921875 20.71875 10.15625 \nQ 24.75 6.390625 31.78125 6.390625 \nQ 38.8125 6.390625 42.859375 10.171875 \nQ 46.921875 13.96875 46.921875 20.515625 \nQ 46.921875 27.09375 42.890625 30.859375 \nQ 38.875 34.625 31.78125 34.625 \nz\nM 21.921875 38.8125 \nQ 15.578125 40.375 12.03125 44.71875 \nQ 8.5 49.078125 8.5 55.328125 \nQ 8.5 64.0625 14.71875 69.140625 \nQ 20.953125 74.21875 31.78125 74.21875 \nQ 42.671875 74.21875 48.875 69.140625 \nQ 55.078125 64.0625 55.078125 55.328125 \nQ 55.078125 49.078125 51.53125 44.71875 \nQ 48 40.375 41.703125 38.8125 \nQ 48.828125 37.15625 52.796875 32.3125 \nQ 56.78125 27.484375 56.78125 20.515625 \nQ 56.78125 9.90625 50.3125 4.234375 \nQ 43.84375 -1.421875 31.78125 -1.421875 \nQ 19.734375 -1.421875 13.25 4.234375 \nQ 6.78125 9.90625 6.78125 20.515625 \nQ 6.78125 27.484375 10.78125 32.3125 \nQ 14.796875 37.15625 21.921875 38.8125 \nz\nM 18.3125 54.390625 \nQ 18.3125 48.734375 21.84375 45.5625 \nQ 25.390625 42.390625 31.78125 42.390625 \nQ 38.140625 42.390625 41.71875 45.5625 \nQ 45.3125 48.734375 45.3125 54.390625 \nQ 45.3125 60.0625 41.71875 63.234375 \nQ 38.140625 66.40625 31.78125 66.40625 \nQ 25.390625 66.40625 21.84375 63.234375 \nQ 18.3125 60.0625 18.3125 54.390625 \nz\n\" id=\"DejaVuSans-56\"/>\n      </defs>\n      <g transform=\"translate(152.29325 222.141656)scale(0.1 -0.1)\">\n       <use xlink:href=\"#DejaVuSans-56\"/>\n      </g>\n     </g>\n    </g>\n    <g id=\"xtick_6\">\n     <g id=\"line2d_6\">\n      <g>\n       <use style=\"stroke:#000000;stroke-width:0.8;\" x=\"187.2185\" xlink:href=\"#m4fba10d049\" y=\"207.543219\"/>\n      </g>\n     </g>\n     <g id=\"text_6\">\n      <!-- 10 -->\n      <defs>\n       <path d=\"M 12.40625 8.296875 \nL 28.515625 8.296875 \nL 28.515625 63.921875 \nL 10.984375 60.40625 \nL 10.984375 69.390625 \nL 28.421875 72.90625 \nL 38.28125 72.90625 \nL 38.28125 8.296875 \nL 54.390625 8.296875 \nL 54.390625 0 \nL 12.40625 0 \nz\n\" id=\"DejaVuSans-49\"/>\n      </defs>\n      <g transform=\"translate(180.856 222.141656)scale(0.1 -0.1)\">\n       <use xlink:href=\"#DejaVuSans-49\"/>\n       <use x=\"63.623047\" xlink:href=\"#DejaVuSans-48\"/>\n      </g>\n     </g>\n    </g>\n    <g id=\"xtick_7\">\n     <g id=\"line2d_7\">\n      <g>\n       <use style=\"stroke:#000000;stroke-width:0.8;\" x=\"218.9625\" xlink:href=\"#m4fba10d049\" y=\"207.543219\"/>\n      </g>\n     </g>\n     <g id=\"text_7\">\n      <!-- 12 -->\n      <g transform=\"translate(212.6 222.141656)scale(0.1 -0.1)\">\n       <use xlink:href=\"#DejaVuSans-49\"/>\n       <use x=\"63.623047\" xlink:href=\"#DejaVuSans-50\"/>\n      </g>\n     </g>\n    </g>\n    <g id=\"xtick_8\">\n     <g id=\"line2d_8\">\n      <g>\n       <use style=\"stroke:#000000;stroke-width:0.8;\" x=\"250.7065\" xlink:href=\"#m4fba10d049\" y=\"207.543219\"/>\n      </g>\n     </g>\n     <g id=\"text_8\">\n      <!-- 14 -->\n      <g transform=\"translate(244.344 222.141656)scale(0.1 -0.1)\">\n       <use xlink:href=\"#DejaVuSans-49\"/>\n       <use x=\"63.623047\" xlink:href=\"#DejaVuSans-52\"/>\n      </g>\n     </g>\n    </g>\n    <g id=\"xtick_9\">\n     <g id=\"line2d_9\">\n      <g>\n       <use style=\"stroke:#000000;stroke-width:0.8;\" x=\"282.4505\" xlink:href=\"#m4fba10d049\" y=\"207.543219\"/>\n      </g>\n     </g>\n     <g id=\"text_9\">\n      <!-- 16 -->\n      <g transform=\"translate(276.088 222.141656)scale(0.1 -0.1)\">\n       <use xlink:href=\"#DejaVuSans-49\"/>\n       <use x=\"63.623047\" xlink:href=\"#DejaVuSans-54\"/>\n      </g>\n     </g>\n    </g>\n   </g>\n   <g id=\"matplotlib.axis_2\">\n    <g id=\"ytick_1\">\n     <g id=\"line2d_10\">\n      <defs>\n       <path d=\"M 0 0 \nL -3.5 0 \n\" id=\"m8af5ce1f36\" style=\"stroke:#000000;stroke-width:0.8;\"/>\n      </defs>\n      <g>\n       <use style=\"stroke:#000000;stroke-width:0.8;\" x=\"20.5625\" xlink:href=\"#m8af5ce1f36\" y=\"88.503219\"/>\n      </g>\n     </g>\n     <g id=\"text_10\">\n      <!-- 0 -->\n      <g transform=\"translate(7.2 92.302437)scale(0.1 -0.1)\">\n       <use xlink:href=\"#DejaVuSans-48\"/>\n      </g>\n     </g>\n    </g>\n    <g id=\"ytick_2\">\n     <g id=\"line2d_11\">\n      <g>\n       <use style=\"stroke:#000000;stroke-width:0.8;\" x=\"20.5625\" xlink:href=\"#m8af5ce1f36\" y=\"120.247219\"/>\n      </g>\n     </g>\n     <g id=\"text_11\">\n      <!-- 2 -->\n      <g transform=\"translate(7.2 124.046437)scale(0.1 -0.1)\">\n       <use xlink:href=\"#DejaVuSans-50\"/>\n      </g>\n     </g>\n    </g>\n    <g id=\"ytick_3\">\n     <g id=\"line2d_12\">\n      <g>\n       <use style=\"stroke:#000000;stroke-width:0.8;\" x=\"20.5625\" xlink:href=\"#m8af5ce1f36\" y=\"151.991219\"/>\n      </g>\n     </g>\n     <g id=\"text_12\">\n      <!-- 4 -->\n      <g transform=\"translate(7.2 155.790437)scale(0.1 -0.1)\">\n       <use xlink:href=\"#DejaVuSans-52\"/>\n      </g>\n     </g>\n    </g>\n    <g id=\"ytick_4\">\n     <g id=\"line2d_13\">\n      <g>\n       <use style=\"stroke:#000000;stroke-width:0.8;\" x=\"20.5625\" xlink:href=\"#m8af5ce1f36\" y=\"183.735219\"/>\n      </g>\n     </g>\n     <g id=\"text_13\">\n      <!-- 6 -->\n      <g transform=\"translate(7.2 187.534437)scale(0.1 -0.1)\">\n       <use xlink:href=\"#DejaVuSans-54\"/>\n      </g>\n     </g>\n    </g>\n   </g>\n   <g id=\"LineCollection_1\">\n    <path clip-path=\"url(#p232e18e012)\" d=\"M 266.5785 88.503219 \nL 250.7065 104.375219 \nL 234.8345 120.247219 \nL 218.9625 136.119219 \nL 203.0905 151.991219 \nL 187.2185 167.863219 \nL 171.3465 183.735219 \nL 155.4745 199.607219 \nL 139.6025 199.607219 \nL 123.7305 183.735219 \nL 107.8585 167.863219 \nL 91.9865 151.991219 \nL 76.1145 136.119219 \nL 60.2425 120.247219 \nL 44.3705 120.247219 \nL 28.4985 104.375219 \n\" style=\"fill:none;stroke:#ffffff;stroke-width:1.5;\"/>\n   </g>\n   <g id=\"patch_3\">\n    <path d=\"M 20.5625 207.543219 \nL 20.5625 80.567219 \n\" style=\"fill:none;stroke:#000000;stroke-linecap:square;stroke-linejoin:miter;stroke-width:0.8;\"/>\n   </g>\n   <g id=\"patch_4\">\n    <path d=\"M 306.2585 207.543219 \nL 306.2585 80.567219 \n\" style=\"fill:none;stroke:#000000;stroke-linecap:square;stroke-linejoin:miter;stroke-width:0.8;\"/>\n   </g>\n   <g id=\"patch_5\">\n    <path d=\"M 20.5625 207.543219 \nL 306.2585 207.543219 \n\" style=\"fill:none;stroke:#000000;stroke-linecap:square;stroke-linejoin:miter;stroke-width:0.8;\"/>\n   </g>\n   <g id=\"patch_6\">\n    <path d=\"M 20.5625 80.567219 \nL 306.2585 80.567219 \n\" style=\"fill:none;stroke:#000000;stroke-linecap:square;stroke-linejoin:miter;stroke-width:0.8;\"/>\n   </g>\n  </g>\n  <g id=\"axes_2\">\n   <g id=\"patch_7\">\n    <path clip-path=\"url(#pf016b4a4b0)\" d=\"M 324.1145 277.111219 \nL 324.1145 276.071719 \nL 324.1145 12.038719 \nL 324.1145 10.999219 \nL 337.4201 10.999219 \nL 337.4201 12.038719 \nL 337.4201 276.071719 \nL 337.4201 277.111219 \nz\n\" style=\"fill:#ffffff;stroke:#ffffff;stroke-linejoin:miter;stroke-width:0.01;\"/>\n   </g>\n   <image height=\"266.4\" id=\"image1f8212490e\" transform=\"scale(1 -1)translate(0 -266.4)\" width=\"13.68\" x=\"324\" xlink:href=\"data:image/png;base64,\niVBORw0KGgoAAAANSUhEUgAAABMAAAFyCAYAAAAXj+GHAAAABHNCSVQICAgIfAhkiAAAAfVJREFUeJztnIENwjAMBJ20ozEC+49CmMHVST3pnQFePb/fMQi6Put7Cjp3rU1pFadUVffaixMjMdEnY2uGYpYYE2yNta0JQDErBZNsDe1wRDFJA9StoXUTxUxxM6Rmc6O/KWbGzHDzsDXDtMw1C0kA2Rr0fkaKeTGtbqYEXZwA7sHMCTgZQT9WN9E+o2sWMc9YTLGboFhM0Ekx7ccdbc3UmONm86gx0Z0W0zLvtOTmaMYUuzlN2xWb4dgXG8z2CfmEkjI1zK0Big1m+4RgTs36B8YkxbyYczv1xUISoK2ZGNPrZkjTajGnZv2DYnprNvOsf7xNm9Ma3Ioc0hpiN2OaFhVLSID4Eo5JANdnKfMsJOiTgCdimBb9D+Zp2pfFKqJmK6M1YjA5MfHYJt0U1wzFNF91pJuYlBtTO8/QxWWn1CxinoW4ucHNcdx8IEY+mTjoXkw4AVrMEDetmGifhdRsMPuHnWdizPUjxSbofTHOABbzSnFTmgDYTXaeZdSMTYA16Og8u0IwtWMbXVxITPNVZx2Og9k/6Agy304kJht07bIHY2oTkHKjkwnQYmrXUPEWxN4BGfOMXA/onTakaaXfOZqHo7VmYkxx0MlfkrCtgUnxdwApBv5mjL4DQLFL+zrBDRqgdpPEJF/YtEFSdc28mNIn+wObno3m4MFdMAAAAABJRU5ErkJggg==\" y=\"-10.8\"/>\n   <g id=\"matplotlib.axis_3\"/>\n   <g id=\"matplotlib.axis_4\">\n    <g id=\"ytick_5\">\n     <g id=\"line2d_14\">\n      <defs>\n       <path d=\"M 0 0 \nL 3.5 0 \n\" id=\"m04ce4d0952\" style=\"stroke:#000000;stroke-width:0.8;\"/>\n      </defs>\n      <g>\n       <use style=\"stroke:#000000;stroke-width:0.8;\" x=\"337.4201\" xlink:href=\"#m04ce4d0952\" y=\"277.111219\"/>\n      </g>\n     </g>\n     <g id=\"text_14\">\n      <!-- −4 -->\n      <defs>\n       <path d=\"M 10.59375 35.5 \nL 73.1875 35.5 \nL 73.1875 27.203125 \nL 10.59375 27.203125 \nz\n\" id=\"DejaVuSans-8722\"/>\n      </defs>\n      <g transform=\"translate(344.4201 280.910437)scale(0.1 -0.1)\">\n       <use xlink:href=\"#DejaVuSans-8722\"/>\n       <use x=\"83.789062\" xlink:href=\"#DejaVuSans-52\"/>\n      </g>\n     </g>\n    </g>\n    <g id=\"ytick_6\">\n     <g id=\"line2d_15\">\n      <g>\n       <use style=\"stroke:#000000;stroke-width:0.8;\" x=\"337.4201\" xlink:href=\"#m04ce4d0952\" y=\"243.847219\"/>\n      </g>\n     </g>\n     <g id=\"text_15\">\n      <!-- −2 -->\n      <g transform=\"translate(344.4201 247.646437)scale(0.1 -0.1)\">\n       <use xlink:href=\"#DejaVuSans-8722\"/>\n       <use x=\"83.789062\" xlink:href=\"#DejaVuSans-50\"/>\n      </g>\n     </g>\n    </g>\n    <g id=\"ytick_7\">\n     <g id=\"line2d_16\">\n      <g>\n       <use style=\"stroke:#000000;stroke-width:0.8;\" x=\"337.4201\" xlink:href=\"#m04ce4d0952\" y=\"210.583219\"/>\n      </g>\n     </g>\n     <g id=\"text_16\">\n      <!-- 0 -->\n      <g transform=\"translate(344.4201 214.382437)scale(0.1 -0.1)\">\n       <use xlink:href=\"#DejaVuSans-48\"/>\n      </g>\n     </g>\n    </g>\n    <g id=\"ytick_8\">\n     <g id=\"line2d_17\">\n      <g>\n       <use style=\"stroke:#000000;stroke-width:0.8;\" x=\"337.4201\" xlink:href=\"#m04ce4d0952\" y=\"177.319219\"/>\n      </g>\n     </g>\n     <g id=\"text_17\">\n      <!-- 2 -->\n      <g transform=\"translate(344.4201 181.118437)scale(0.1 -0.1)\">\n       <use xlink:href=\"#DejaVuSans-50\"/>\n      </g>\n     </g>\n    </g>\n    <g id=\"ytick_9\">\n     <g id=\"line2d_18\">\n      <g>\n       <use style=\"stroke:#000000;stroke-width:0.8;\" x=\"337.4201\" xlink:href=\"#m04ce4d0952\" y=\"144.055219\"/>\n      </g>\n     </g>\n     <g id=\"text_18\">\n      <!-- 4 -->\n      <g transform=\"translate(344.4201 147.854437)scale(0.1 -0.1)\">\n       <use xlink:href=\"#DejaVuSans-52\"/>\n      </g>\n     </g>\n    </g>\n    <g id=\"ytick_10\">\n     <g id=\"line2d_19\">\n      <g>\n       <use style=\"stroke:#000000;stroke-width:0.8;\" x=\"337.4201\" xlink:href=\"#m04ce4d0952\" y=\"110.791219\"/>\n      </g>\n     </g>\n     <g id=\"text_19\">\n      <!-- 6 -->\n      <g transform=\"translate(344.4201 114.590437)scale(0.1 -0.1)\">\n       <use xlink:href=\"#DejaVuSans-54\"/>\n      </g>\n     </g>\n    </g>\n    <g id=\"ytick_11\">\n     <g id=\"line2d_20\">\n      <g>\n       <use style=\"stroke:#000000;stroke-width:0.8;\" x=\"337.4201\" xlink:href=\"#m04ce4d0952\" y=\"77.527219\"/>\n      </g>\n     </g>\n     <g id=\"text_20\">\n      <!-- 8 -->\n      <g transform=\"translate(344.4201 81.326437)scale(0.1 -0.1)\">\n       <use xlink:href=\"#DejaVuSans-56\"/>\n      </g>\n     </g>\n    </g>\n    <g id=\"ytick_12\">\n     <g id=\"line2d_21\">\n      <g>\n       <use style=\"stroke:#000000;stroke-width:0.8;\" x=\"337.4201\" xlink:href=\"#m04ce4d0952\" y=\"44.263219\"/>\n      </g>\n     </g>\n     <g id=\"text_21\">\n      <!-- 10 -->\n      <g transform=\"translate(344.4201 48.062437)scale(0.1 -0.1)\">\n       <use xlink:href=\"#DejaVuSans-49\"/>\n       <use x=\"63.623047\" xlink:href=\"#DejaVuSans-48\"/>\n      </g>\n     </g>\n    </g>\n    <g id=\"ytick_13\">\n     <g id=\"line2d_22\">\n      <g>\n       <use style=\"stroke:#000000;stroke-width:0.8;\" x=\"337.4201\" xlink:href=\"#m04ce4d0952\" y=\"10.999219\"/>\n      </g>\n     </g>\n     <g id=\"text_22\">\n      <!-- 12 -->\n      <g transform=\"translate(344.4201 14.798437)scale(0.1 -0.1)\">\n       <use xlink:href=\"#DejaVuSans-49\"/>\n       <use x=\"63.623047\" xlink:href=\"#DejaVuSans-50\"/>\n      </g>\n     </g>\n    </g>\n   </g>\n   <g id=\"patch_8\">\n    <path d=\"M 324.1145 277.111219 \nL 324.1145 276.071719 \nL 324.1145 12.038719 \nL 324.1145 10.999219 \nL 337.4201 10.999219 \nL 337.4201 12.038719 \nL 337.4201 276.071719 \nL 337.4201 277.111219 \nz\n\" style=\"fill:none;stroke:#000000;stroke-linejoin:miter;stroke-width:0.8;\"/>\n   </g>\n  </g>\n </g>\n <defs>\n  <clipPath id=\"p232e18e012\">\n   <rect height=\"126.976\" width=\"285.696\" x=\"20.5625\" y=\"80.567219\"/>\n  </clipPath>\n  <clipPath id=\"pf016b4a4b0\">\n   <rect height=\"266.112\" width=\"13.3056\" x=\"324.1145\" y=\"10.999219\"/>\n  </clipPath>\n </defs>\n</svg>\n",
      "image/png": "[encoded data removed]"
     },
     "metadata": {}
    }
   ],
   "source": [
    "mine = np.loadtxt(\"pitmine.txt\", dtype=int)\n",
    "levels, columns = mine.shape\n",
    "plt.imshow(mine, clim=(-4, 12), interpolation='none')\n",
    "plt.colorbar()\n",
    "\n",
    "### VOTRE CODE PULP ###\n",
    "\n",
    "# New problem \n",
    "prob = pulp.LpProblem(\"Mines\", pulp.LpMaximize)\n",
    "\n",
    "# Decision variables\n",
    "extract = np.empty((levels,columns), dtype=object)\n",
    "for i in range(levels):\n",
    "    for j in range(columns):\n",
    "        extract[i,j] = pulp.LpVariable('extract_{}_{}'.format(i,j),cat=pulp.LpBinary)\n",
    "\n",
    "\n",
    "# Constraints\n",
    "for i in range(1,levels):\n",
    "    for j in range(1, columns-1):\n",
    "        prob += 3*extract[i,j] <= extract[i-1,j-1] + extract[i-1,j] + extract[i-1,j+1]\n",
    "\n",
    "# Objective function\n",
    "prob += pulp.lpSum(mine * extract)\n",
    "\n",
    "# Problem solving\n",
    "status = prob.solve()\n",
    "print(\"Status: \",pulp.LpStatus[status])\n",
    "\n",
    "# Optimum values\n",
    "assert pulp.LpStatus[prob.solve()] == 'Optimal'\n",
    "\n",
    "print(\"Variables: \", end=' ')\n",
    "for i in range(levels):\n",
    "    for j in range(columns):\n",
    "        print(pulp.value(extract[i,j]), end=' ')\n",
    "print()\n",
    "\n",
    "print(\"Objective: \",pulp.value(prob.objective))\n",
    "\n",
    "### COMPLEMENT POUR TRACER LE CONTOUR ###\n",
    "extraction = [ [extract[i, j].value() for j in range(columns)] for i in range(levels)]\n",
    "plt.contour(extraction, levels=[0], cmap=plt.cm.binary)\n",
    "\n",
    "prob.objective.value()"
   ]
  },
  {
   "cell_type": "markdown",
   "metadata": {},
   "source": [
    "<div class=\"alert alert-warning\"> \n",
    "    \n",
    "**Question :**<br>\n",
    "Modifier le programme pour résoudre la relaxation linéaire du problème.\n",
    "<div>"
   ]
  },
  {
   "cell_type": "code",
   "execution_count": 4,
   "metadata": {},
   "outputs": [
    {
     "output_type": "stream",
     "name": "stdout",
     "text": [
      "Status:  Optimal\nVariables:  1.0 1.0 1.0 1.0 1.0 1.0 1.0 1.0 1.0 1.0 1.0 1.0 1.0 1.0 1.0 0.0 0.0 0.0 0.0 1.0 1.0 1.0 1.0 1.0 1.0 1.0 1.0 1.0 1.0 1.0 1.0 1.0 0.0 0.0 0.0 0.0 0.0 0.0 0.0 1.0 1.0 1.0 1.0 1.0 1.0 1.0 1.0 1.0 1.0 0.0 0.0 0.0 0.0 0.0 0.0 0.0 0.0 0.0 1.0 1.0 1.0 1.0 1.0 1.0 1.0 1.0 0.0 0.0 0.0 0.0 0.0 0.0 0.0 0.0 0.0 0.0 0.0 1.0 1.0 1.0 1.0 1.0 1.0 0.0 0.0 0.0 0.0 0.0 0.0 0.0 0.0 0.0 0.0 0.0 0.0 0.0 1.0 1.0 1.0 1.0 0.0 0.0 0.0 0.0 0.0 0.0 0.0 0.0 0.0 0.0 0.0 0.0 0.0 0.0 0.0 1.0 1.0 0.0 0.0 0.0 0.0 0.0 0.0 0.0 0.0 0.0 0.0 0.0 0.0 0.0 0.0 0.0 0.0 0.0 0.0 0.0 0.0 0.0 0.0 0.0 0.0 0.0 0.0 0.0 \nObjective:  137.0\n58.0\n"
     ]
    },
    {
     "output_type": "display_data",
     "data": {
      "text/plain": "<Figure size 640x480 with 2 Axes>",
      "image/svg+xml": "<?xml version=\"1.0\" encoding=\"utf-8\" standalone=\"no\"?>\n<!DOCTYPE svg PUBLIC \"-//W3C//DTD SVG 1.1//EN\"\n  \"http://www.w3.org/Graphics/SVG/1.1/DTD/svg11.dtd\">\n<!-- Created with matplotlib (https://matplotlib.org/) -->\n<svg height=\"290.190125pt\" version=\"1.1\" viewBox=\"0 0 366.362288 290.190125\" width=\"366.362288pt\" xmlns=\"http://www.w3.org/2000/svg\" xmlns:xlink=\"http://www.w3.org/1999/xlink\">\n <defs>\n  <style type=\"text/css\">\n*{stroke-linecap:butt;stroke-linejoin:round;}\n  </style>\n </defs>\n <g id=\"figure_1\">\n  <g id=\"patch_1\">\n   <path d=\"M 0 290.190125 \nL 366.362288 290.190125 \nL 366.362288 0 \nL 0 0 \nz\n\" style=\"fill:#ffffff;\"/>\n  </g>\n  <g id=\"axes_1\">\n   <g id=\"patch_2\">\n    <path d=\"M 20.5625 207.543219 \nL 306.2585 207.543219 \nL 306.2585 80.567219 \nL 20.5625 80.567219 \nz\n\" style=\"fill:#ffffff;\"/>\n   </g>\n   <g clip-path=\"url(#pddabdf0e53)\">\n    <image height=\"8\" id=\"image64af3d0c10\" transform=\"matrix(15.888889 0 0 15.875 20.5625 80.543219)\" width=\"18\" xlink:href=\"data:image/png;base64,\niVBORw0KGgoAAAANSUhEUgAAABIAAAAICAYAAAD0g6+qAAAABHNCSVQICAgIfAhkiAAAAJ1JREFUKJFjdGEM+c+ABKRO8DLMlzvMwMDAwGCbnc7Atf4kAzGAiYGBgSHz9h24wJ1OLThbpfwaiuIna7UZnqzVxmoQI7qLsLmKgYGBoMuYsAk+s/gMN+Dw1JkYLiPaIJgLEh/ZMjAwMDDMlzvM8C3QHK9BLLgkMm/fYQjg/sLAwMDAkPjIljyvMTAwMExXVSHJRTgNYmBAxCAxLgIAn44yu78c6ZoAAAAASUVORK5CYII=\"/>\n   </g>\n   <g id=\"matplotlib.axis_1\">\n    <g id=\"xtick_1\">\n     <g id=\"line2d_1\">\n      <defs>\n       <path d=\"M 0 0 \nL 0 3.5 \n\" id=\"m7bcfdbb4b6\" style=\"stroke:#000000;stroke-width:0.8;\"/>\n      </defs>\n      <g>\n       <use style=\"stroke:#000000;stroke-width:0.8;\" x=\"28.4985\" xlink:href=\"#m7bcfdbb4b6\" y=\"207.543219\"/>\n      </g>\n     </g>\n     <g id=\"text_1\">\n      <!-- 0 -->\n      <defs>\n       <path d=\"M 31.78125 66.40625 \nQ 24.171875 66.40625 20.328125 58.90625 \nQ 16.5 51.421875 16.5 36.375 \nQ 16.5 21.390625 20.328125 13.890625 \nQ 24.171875 6.390625 31.78125 6.390625 \nQ 39.453125 6.390625 43.28125 13.890625 \nQ 47.125 21.390625 47.125 36.375 \nQ 47.125 51.421875 43.28125 58.90625 \nQ 39.453125 66.40625 31.78125 66.40625 \nz\nM 31.78125 74.21875 \nQ 44.046875 74.21875 50.515625 64.515625 \nQ 56.984375 54.828125 56.984375 36.375 \nQ 56.984375 17.96875 50.515625 8.265625 \nQ 44.046875 -1.421875 31.78125 -1.421875 \nQ 19.53125 -1.421875 13.0625 8.265625 \nQ 6.59375 17.96875 6.59375 36.375 \nQ 6.59375 54.828125 13.0625 64.515625 \nQ 19.53125 74.21875 31.78125 74.21875 \nz\n\" id=\"DejaVuSans-48\"/>\n      </defs>\n      <g transform=\"translate(25.31725 222.141656)scale(0.1 -0.1)\">\n       <use xlink:href=\"#DejaVuSans-48\"/>\n      </g>\n     </g>\n    </g>\n    <g id=\"xtick_2\">\n     <g id=\"line2d_2\">\n      <g>\n       <use style=\"stroke:#000000;stroke-width:0.8;\" x=\"60.2425\" xlink:href=\"#m7bcfdbb4b6\" y=\"207.543219\"/>\n      </g>\n     </g>\n     <g id=\"text_2\">\n      <!-- 2 -->\n      <defs>\n       <path d=\"M 19.1875 8.296875 \nL 53.609375 8.296875 \nL 53.609375 0 \nL 7.328125 0 \nL 7.328125 8.296875 \nQ 12.9375 14.109375 22.625 23.890625 \nQ 32.328125 33.6875 34.8125 36.53125 \nQ 39.546875 41.84375 41.421875 45.53125 \nQ 43.3125 49.21875 43.3125 52.78125 \nQ 43.3125 58.59375 39.234375 62.25 \nQ 35.15625 65.921875 28.609375 65.921875 \nQ 23.96875 65.921875 18.8125 64.3125 \nQ 13.671875 62.703125 7.8125 59.421875 \nL 7.8125 69.390625 \nQ 13.765625 71.78125 18.9375 73 \nQ 24.125 74.21875 28.421875 74.21875 \nQ 39.75 74.21875 46.484375 68.546875 \nQ 53.21875 62.890625 53.21875 53.421875 \nQ 53.21875 48.921875 51.53125 44.890625 \nQ 49.859375 40.875 45.40625 35.40625 \nQ 44.1875 33.984375 37.640625 27.21875 \nQ 31.109375 20.453125 19.1875 8.296875 \nz\n\" id=\"DejaVuSans-50\"/>\n      </defs>\n      <g transform=\"translate(57.06125 222.141656)scale(0.1 -0.1)\">\n       <use xlink:href=\"#DejaVuSans-50\"/>\n      </g>\n     </g>\n    </g>\n    <g id=\"xtick_3\">\n     <g id=\"line2d_3\">\n      <g>\n       <use style=\"stroke:#000000;stroke-width:0.8;\" x=\"91.9865\" xlink:href=\"#m7bcfdbb4b6\" y=\"207.543219\"/>\n      </g>\n     </g>\n     <g id=\"text_3\">\n      <!-- 4 -->\n      <defs>\n       <path d=\"M 37.796875 64.3125 \nL 12.890625 25.390625 \nL 37.796875 25.390625 \nz\nM 35.203125 72.90625 \nL 47.609375 72.90625 \nL 47.609375 25.390625 \nL 58.015625 25.390625 \nL 58.015625 17.1875 \nL 47.609375 17.1875 \nL 47.609375 0 \nL 37.796875 0 \nL 37.796875 17.1875 \nL 4.890625 17.1875 \nL 4.890625 26.703125 \nz\n\" id=\"DejaVuSans-52\"/>\n      </defs>\n      <g transform=\"translate(88.80525 222.141656)scale(0.1 -0.1)\">\n       <use xlink:href=\"#DejaVuSans-52\"/>\n      </g>\n     </g>\n    </g>\n    <g id=\"xtick_4\">\n     <g id=\"line2d_4\">\n      <g>\n       <use style=\"stroke:#000000;stroke-width:0.8;\" x=\"123.7305\" xlink:href=\"#m7bcfdbb4b6\" y=\"207.543219\"/>\n      </g>\n     </g>\n     <g id=\"text_4\">\n      <!-- 6 -->\n      <defs>\n       <path d=\"M 33.015625 40.375 \nQ 26.375 40.375 22.484375 35.828125 \nQ 18.609375 31.296875 18.609375 23.390625 \nQ 18.609375 15.53125 22.484375 10.953125 \nQ 26.375 6.390625 33.015625 6.390625 \nQ 39.65625 6.390625 43.53125 10.953125 \nQ 47.40625 15.53125 47.40625 23.390625 \nQ 47.40625 31.296875 43.53125 35.828125 \nQ 39.65625 40.375 33.015625 40.375 \nz\nM 52.59375 71.296875 \nL 52.59375 62.3125 \nQ 48.875 64.0625 45.09375 64.984375 \nQ 41.3125 65.921875 37.59375 65.921875 \nQ 27.828125 65.921875 22.671875 59.328125 \nQ 17.53125 52.734375 16.796875 39.40625 \nQ 19.671875 43.65625 24.015625 45.921875 \nQ 28.375 48.1875 33.59375 48.1875 \nQ 44.578125 48.1875 50.953125 41.515625 \nQ 57.328125 34.859375 57.328125 23.390625 \nQ 57.328125 12.15625 50.6875 5.359375 \nQ 44.046875 -1.421875 33.015625 -1.421875 \nQ 20.359375 -1.421875 13.671875 8.265625 \nQ 6.984375 17.96875 6.984375 36.375 \nQ 6.984375 53.65625 15.1875 63.9375 \nQ 23.390625 74.21875 37.203125 74.21875 \nQ 40.921875 74.21875 44.703125 73.484375 \nQ 48.484375 72.75 52.59375 71.296875 \nz\n\" id=\"DejaVuSans-54\"/>\n      </defs>\n      <g transform=\"translate(120.54925 222.141656)scale(0.1 -0.1)\">\n       <use xlink:href=\"#DejaVuSans-54\"/>\n      </g>\n     </g>\n    </g>\n    <g id=\"xtick_5\">\n     <g id=\"line2d_5\">\n      <g>\n       <use style=\"stroke:#000000;stroke-width:0.8;\" x=\"155.4745\" xlink:href=\"#m7bcfdbb4b6\" y=\"207.543219\"/>\n      </g>\n     </g>\n     <g id=\"text_5\">\n      <!-- 8 -->\n      <defs>\n       <path d=\"M 31.78125 34.625 \nQ 24.75 34.625 20.71875 30.859375 \nQ 16.703125 27.09375 16.703125 20.515625 \nQ 16.703125 13.921875 20.71875 10.15625 \nQ 24.75 6.390625 31.78125 6.390625 \nQ 38.8125 6.390625 42.859375 10.171875 \nQ 46.921875 13.96875 46.921875 20.515625 \nQ 46.921875 27.09375 42.890625 30.859375 \nQ 38.875 34.625 31.78125 34.625 \nz\nM 21.921875 38.8125 \nQ 15.578125 40.375 12.03125 44.71875 \nQ 8.5 49.078125 8.5 55.328125 \nQ 8.5 64.0625 14.71875 69.140625 \nQ 20.953125 74.21875 31.78125 74.21875 \nQ 42.671875 74.21875 48.875 69.140625 \nQ 55.078125 64.0625 55.078125 55.328125 \nQ 55.078125 49.078125 51.53125 44.71875 \nQ 48 40.375 41.703125 38.8125 \nQ 48.828125 37.15625 52.796875 32.3125 \nQ 56.78125 27.484375 56.78125 20.515625 \nQ 56.78125 9.90625 50.3125 4.234375 \nQ 43.84375 -1.421875 31.78125 -1.421875 \nQ 19.734375 -1.421875 13.25 4.234375 \nQ 6.78125 9.90625 6.78125 20.515625 \nQ 6.78125 27.484375 10.78125 32.3125 \nQ 14.796875 37.15625 21.921875 38.8125 \nz\nM 18.3125 54.390625 \nQ 18.3125 48.734375 21.84375 45.5625 \nQ 25.390625 42.390625 31.78125 42.390625 \nQ 38.140625 42.390625 41.71875 45.5625 \nQ 45.3125 48.734375 45.3125 54.390625 \nQ 45.3125 60.0625 41.71875 63.234375 \nQ 38.140625 66.40625 31.78125 66.40625 \nQ 25.390625 66.40625 21.84375 63.234375 \nQ 18.3125 60.0625 18.3125 54.390625 \nz\n\" id=\"DejaVuSans-56\"/>\n      </defs>\n      <g transform=\"translate(152.29325 222.141656)scale(0.1 -0.1)\">\n       <use xlink:href=\"#DejaVuSans-56\"/>\n      </g>\n     </g>\n    </g>\n    <g id=\"xtick_6\">\n     <g id=\"line2d_6\">\n      <g>\n       <use style=\"stroke:#000000;stroke-width:0.8;\" x=\"187.2185\" xlink:href=\"#m7bcfdbb4b6\" y=\"207.543219\"/>\n      </g>\n     </g>\n     <g id=\"text_6\">\n      <!-- 10 -->\n      <defs>\n       <path d=\"M 12.40625 8.296875 \nL 28.515625 8.296875 \nL 28.515625 63.921875 \nL 10.984375 60.40625 \nL 10.984375 69.390625 \nL 28.421875 72.90625 \nL 38.28125 72.90625 \nL 38.28125 8.296875 \nL 54.390625 8.296875 \nL 54.390625 0 \nL 12.40625 0 \nz\n\" id=\"DejaVuSans-49\"/>\n      </defs>\n      <g transform=\"translate(180.856 222.141656)scale(0.1 -0.1)\">\n       <use xlink:href=\"#DejaVuSans-49\"/>\n       <use x=\"63.623047\" xlink:href=\"#DejaVuSans-48\"/>\n      </g>\n     </g>\n    </g>\n    <g id=\"xtick_7\">\n     <g id=\"line2d_7\">\n      <g>\n       <use style=\"stroke:#000000;stroke-width:0.8;\" x=\"218.9625\" xlink:href=\"#m7bcfdbb4b6\" y=\"207.543219\"/>\n      </g>\n     </g>\n     <g id=\"text_7\">\n      <!-- 12 -->\n      <g transform=\"translate(212.6 222.141656)scale(0.1 -0.1)\">\n       <use xlink:href=\"#DejaVuSans-49\"/>\n       <use x=\"63.623047\" xlink:href=\"#DejaVuSans-50\"/>\n      </g>\n     </g>\n    </g>\n    <g id=\"xtick_8\">\n     <g id=\"line2d_8\">\n      <g>\n       <use style=\"stroke:#000000;stroke-width:0.8;\" x=\"250.7065\" xlink:href=\"#m7bcfdbb4b6\" y=\"207.543219\"/>\n      </g>\n     </g>\n     <g id=\"text_8\">\n      <!-- 14 -->\n      <g transform=\"translate(244.344 222.141656)scale(0.1 -0.1)\">\n       <use xlink:href=\"#DejaVuSans-49\"/>\n       <use x=\"63.623047\" xlink:href=\"#DejaVuSans-52\"/>\n      </g>\n     </g>\n    </g>\n    <g id=\"xtick_9\">\n     <g id=\"line2d_9\">\n      <g>\n       <use style=\"stroke:#000000;stroke-width:0.8;\" x=\"282.4505\" xlink:href=\"#m7bcfdbb4b6\" y=\"207.543219\"/>\n      </g>\n     </g>\n     <g id=\"text_9\">\n      <!-- 16 -->\n      <g transform=\"translate(276.088 222.141656)scale(0.1 -0.1)\">\n       <use xlink:href=\"#DejaVuSans-49\"/>\n       <use x=\"63.623047\" xlink:href=\"#DejaVuSans-54\"/>\n      </g>\n     </g>\n    </g>\n   </g>\n   <g id=\"matplotlib.axis_2\">\n    <g id=\"ytick_1\">\n     <g id=\"line2d_10\">\n      <defs>\n       <path d=\"M 0 0 \nL -3.5 0 \n\" id=\"mf0225068bf\" style=\"stroke:#000000;stroke-width:0.8;\"/>\n      </defs>\n      <g>\n       <use style=\"stroke:#000000;stroke-width:0.8;\" x=\"20.5625\" xlink:href=\"#mf0225068bf\" y=\"88.503219\"/>\n      </g>\n     </g>\n     <g id=\"text_10\">\n      <!-- 0 -->\n      <g transform=\"translate(7.2 92.302437)scale(0.1 -0.1)\">\n       <use xlink:href=\"#DejaVuSans-48\"/>\n      </g>\n     </g>\n    </g>\n    <g id=\"ytick_2\">\n     <g id=\"line2d_11\">\n      <g>\n       <use style=\"stroke:#000000;stroke-width:0.8;\" x=\"20.5625\" xlink:href=\"#mf0225068bf\" y=\"120.247219\"/>\n      </g>\n     </g>\n     <g id=\"text_11\">\n      <!-- 2 -->\n      <g transform=\"translate(7.2 124.046437)scale(0.1 -0.1)\">\n       <use xlink:href=\"#DejaVuSans-50\"/>\n      </g>\n     </g>\n    </g>\n    <g id=\"ytick_3\">\n     <g id=\"line2d_12\">\n      <g>\n       <use style=\"stroke:#000000;stroke-width:0.8;\" x=\"20.5625\" xlink:href=\"#mf0225068bf\" y=\"151.991219\"/>\n      </g>\n     </g>\n     <g id=\"text_12\">\n      <!-- 4 -->\n      <g transform=\"translate(7.2 155.790437)scale(0.1 -0.1)\">\n       <use xlink:href=\"#DejaVuSans-52\"/>\n      </g>\n     </g>\n    </g>\n    <g id=\"ytick_4\">\n     <g id=\"line2d_13\">\n      <g>\n       <use style=\"stroke:#000000;stroke-width:0.8;\" x=\"20.5625\" xlink:href=\"#mf0225068bf\" y=\"183.735219\"/>\n      </g>\n     </g>\n     <g id=\"text_13\">\n      <!-- 6 -->\n      <g transform=\"translate(7.2 187.534437)scale(0.1 -0.1)\">\n       <use xlink:href=\"#DejaVuSans-54\"/>\n      </g>\n     </g>\n    </g>\n   </g>\n   <g id=\"LineCollection_1\">\n    <path clip-path=\"url(#pddabdf0e53)\" d=\"M 266.5785 88.503219 \nL 250.7065 104.375219 \nL 234.8345 120.247219 \nL 218.9625 136.119219 \nL 203.0905 151.991219 \nL 187.2185 167.863219 \nL 171.3465 183.735219 \nL 155.4745 199.607219 \nL 139.6025 199.607219 \nL 123.7305 183.735219 \nL 107.8585 167.863219 \nL 91.9865 151.991219 \nL 76.1145 136.119219 \nL 60.2425 120.247219 \nL 44.3705 120.247219 \nL 28.4985 104.375219 \n\" style=\"fill:none;stroke:#ffffff;stroke-width:1.5;\"/>\n   </g>\n   <g id=\"patch_3\">\n    <path d=\"M 20.5625 207.543219 \nL 20.5625 80.567219 \n\" style=\"fill:none;stroke:#000000;stroke-linecap:square;stroke-linejoin:miter;stroke-width:0.8;\"/>\n   </g>\n   <g id=\"patch_4\">\n    <path d=\"M 306.2585 207.543219 \nL 306.2585 80.567219 \n\" style=\"fill:none;stroke:#000000;stroke-linecap:square;stroke-linejoin:miter;stroke-width:0.8;\"/>\n   </g>\n   <g id=\"patch_5\">\n    <path d=\"M 20.5625 207.543219 \nL 306.2585 207.543219 \n\" style=\"fill:none;stroke:#000000;stroke-linecap:square;stroke-linejoin:miter;stroke-width:0.8;\"/>\n   </g>\n   <g id=\"patch_6\">\n    <path d=\"M 20.5625 80.567219 \nL 306.2585 80.567219 \n\" style=\"fill:none;stroke:#000000;stroke-linecap:square;stroke-linejoin:miter;stroke-width:0.8;\"/>\n   </g>\n  </g>\n  <g id=\"axes_2\">\n   <g id=\"patch_7\">\n    <path clip-path=\"url(#p3cf327a6c5)\" d=\"M 324.1145 277.111219 \nL 324.1145 276.071719 \nL 324.1145 12.038719 \nL 324.1145 10.999219 \nL 337.4201 10.999219 \nL 337.4201 12.038719 \nL 337.4201 276.071719 \nL 337.4201 277.111219 \nz\n\" style=\"fill:#ffffff;stroke:#ffffff;stroke-linejoin:miter;stroke-width:0.01;\"/>\n   </g>\n   <image height=\"266.4\" id=\"imagec8e2b552bf\" transform=\"scale(1 -1)translate(0 -266.4)\" width=\"13.68\" x=\"324\" xlink:href=\"data:image/png;base64,\niVBORw0KGgoAAAANSUhEUgAAABMAAAFyCAYAAAAXj+GHAAAABHNCSVQICAgIfAhkiAAAAfVJREFUeJztnIENwjAMBJ20ozEC+49CmMHVST3pnQFePb/fMQi6Put7Cjp3rU1pFadUVffaixMjMdEnY2uGYpYYE2yNta0JQDErBZNsDe1wRDFJA9StoXUTxUxxM6Rmc6O/KWbGzHDzsDXDtMw1C0kA2Rr0fkaKeTGtbqYEXZwA7sHMCTgZQT9WN9E+o2sWMc9YTLGboFhM0Ekx7ccdbc3UmONm86gx0Z0W0zLvtOTmaMYUuzlN2xWb4dgXG8z2CfmEkjI1zK0Big1m+4RgTs36B8YkxbyYczv1xUISoK2ZGNPrZkjTajGnZv2DYnprNvOsf7xNm9Ma3Ioc0hpiN2OaFhVLSID4Eo5JANdnKfMsJOiTgCdimBb9D+Zp2pfFKqJmK6M1YjA5MfHYJt0U1wzFNF91pJuYlBtTO8/QxWWn1CxinoW4ucHNcdx8IEY+mTjoXkw4AVrMEDetmGifhdRsMPuHnWdizPUjxSbofTHOABbzSnFTmgDYTXaeZdSMTYA16Og8u0IwtWMbXVxITPNVZx2Og9k/6Agy304kJht07bIHY2oTkHKjkwnQYmrXUPEWxN4BGfOMXA/onTakaaXfOZqHo7VmYkxx0MlfkrCtgUnxdwApBv5mjL4DQLFL+zrBDRqgdpPEJF/YtEFSdc28mNIn+wObno3m4MFdMAAAAABJRU5ErkJggg==\" y=\"-10.8\"/>\n   <g id=\"matplotlib.axis_3\"/>\n   <g id=\"matplotlib.axis_4\">\n    <g id=\"ytick_5\">\n     <g id=\"line2d_14\">\n      <defs>\n       <path d=\"M 0 0 \nL 3.5 0 \n\" id=\"m943e4790ae\" style=\"stroke:#000000;stroke-width:0.8;\"/>\n      </defs>\n      <g>\n       <use style=\"stroke:#000000;stroke-width:0.8;\" x=\"337.4201\" xlink:href=\"#m943e4790ae\" y=\"277.111219\"/>\n      </g>\n     </g>\n     <g id=\"text_14\">\n      <!-- −4 -->\n      <defs>\n       <path d=\"M 10.59375 35.5 \nL 73.1875 35.5 \nL 73.1875 27.203125 \nL 10.59375 27.203125 \nz\n\" id=\"DejaVuSans-8722\"/>\n      </defs>\n      <g transform=\"translate(344.4201 280.910437)scale(0.1 -0.1)\">\n       <use xlink:href=\"#DejaVuSans-8722\"/>\n       <use x=\"83.789062\" xlink:href=\"#DejaVuSans-52\"/>\n      </g>\n     </g>\n    </g>\n    <g id=\"ytick_6\">\n     <g id=\"line2d_15\">\n      <g>\n       <use style=\"stroke:#000000;stroke-width:0.8;\" x=\"337.4201\" xlink:href=\"#m943e4790ae\" y=\"243.847219\"/>\n      </g>\n     </g>\n     <g id=\"text_15\">\n      <!-- −2 -->\n      <g transform=\"translate(344.4201 247.646437)scale(0.1 -0.1)\">\n       <use xlink:href=\"#DejaVuSans-8722\"/>\n       <use x=\"83.789062\" xlink:href=\"#DejaVuSans-50\"/>\n      </g>\n     </g>\n    </g>\n    <g id=\"ytick_7\">\n     <g id=\"line2d_16\">\n      <g>\n       <use style=\"stroke:#000000;stroke-width:0.8;\" x=\"337.4201\" xlink:href=\"#m943e4790ae\" y=\"210.583219\"/>\n      </g>\n     </g>\n     <g id=\"text_16\">\n      <!-- 0 -->\n      <g transform=\"translate(344.4201 214.382437)scale(0.1 -0.1)\">\n       <use xlink:href=\"#DejaVuSans-48\"/>\n      </g>\n     </g>\n    </g>\n    <g id=\"ytick_8\">\n     <g id=\"line2d_17\">\n      <g>\n       <use style=\"stroke:#000000;stroke-width:0.8;\" x=\"337.4201\" xlink:href=\"#m943e4790ae\" y=\"177.319219\"/>\n      </g>\n     </g>\n     <g id=\"text_17\">\n      <!-- 2 -->\n      <g transform=\"translate(344.4201 181.118437)scale(0.1 -0.1)\">\n       <use xlink:href=\"#DejaVuSans-50\"/>\n      </g>\n     </g>\n    </g>\n    <g id=\"ytick_9\">\n     <g id=\"line2d_18\">\n      <g>\n       <use style=\"stroke:#000000;stroke-width:0.8;\" x=\"337.4201\" xlink:href=\"#m943e4790ae\" y=\"144.055219\"/>\n      </g>\n     </g>\n     <g id=\"text_18\">\n      <!-- 4 -->\n      <g transform=\"translate(344.4201 147.854437)scale(0.1 -0.1)\">\n       <use xlink:href=\"#DejaVuSans-52\"/>\n      </g>\n     </g>\n    </g>\n    <g id=\"ytick_10\">\n     <g id=\"line2d_19\">\n      <g>\n       <use style=\"stroke:#000000;stroke-width:0.8;\" x=\"337.4201\" xlink:href=\"#m943e4790ae\" y=\"110.791219\"/>\n      </g>\n     </g>\n     <g id=\"text_19\">\n      <!-- 6 -->\n      <g transform=\"translate(344.4201 114.590437)scale(0.1 -0.1)\">\n       <use xlink:href=\"#DejaVuSans-54\"/>\n      </g>\n     </g>\n    </g>\n    <g id=\"ytick_11\">\n     <g id=\"line2d_20\">\n      <g>\n       <use style=\"stroke:#000000;stroke-width:0.8;\" x=\"337.4201\" xlink:href=\"#m943e4790ae\" y=\"77.527219\"/>\n      </g>\n     </g>\n     <g id=\"text_20\">\n      <!-- 8 -->\n      <g transform=\"translate(344.4201 81.326437)scale(0.1 -0.1)\">\n       <use xlink:href=\"#DejaVuSans-56\"/>\n      </g>\n     </g>\n    </g>\n    <g id=\"ytick_12\">\n     <g id=\"line2d_21\">\n      <g>\n       <use style=\"stroke:#000000;stroke-width:0.8;\" x=\"337.4201\" xlink:href=\"#m943e4790ae\" y=\"44.263219\"/>\n      </g>\n     </g>\n     <g id=\"text_21\">\n      <!-- 10 -->\n      <g transform=\"translate(344.4201 48.062437)scale(0.1 -0.1)\">\n       <use xlink:href=\"#DejaVuSans-49\"/>\n       <use x=\"63.623047\" xlink:href=\"#DejaVuSans-48\"/>\n      </g>\n     </g>\n    </g>\n    <g id=\"ytick_13\">\n     <g id=\"line2d_22\">\n      <g>\n       <use style=\"stroke:#000000;stroke-width:0.8;\" x=\"337.4201\" xlink:href=\"#m943e4790ae\" y=\"10.999219\"/>\n      </g>\n     </g>\n     <g id=\"text_22\">\n      <!-- 12 -->\n      <g transform=\"translate(344.4201 14.798437)scale(0.1 -0.1)\">\n       <use xlink:href=\"#DejaVuSans-49\"/>\n       <use x=\"63.623047\" xlink:href=\"#DejaVuSans-50\"/>\n      </g>\n     </g>\n    </g>\n   </g>\n   <g id=\"patch_8\">\n    <path d=\"M 324.1145 277.111219 \nL 324.1145 276.071719 \nL 324.1145 12.038719 \nL 324.1145 10.999219 \nL 337.4201 10.999219 \nL 337.4201 12.038719 \nL 337.4201 276.071719 \nL 337.4201 277.111219 \nz\n\" style=\"fill:none;stroke:#000000;stroke-linejoin:miter;stroke-width:0.8;\"/>\n   </g>\n  </g>\n </g>\n <defs>\n  <clipPath id=\"pddabdf0e53\">\n   <rect height=\"126.976\" width=\"285.696\" x=\"20.5625\" y=\"80.567219\"/>\n  </clipPath>\n  <clipPath id=\"p3cf327a6c5\">\n   <rect height=\"266.112\" width=\"13.3056\" x=\"324.1145\" y=\"10.999219\"/>\n  </clipPath>\n </defs>\n</svg>\n",
      "image/png": "[encoded data removed]"
     },
     "metadata": {}
    }
   ],
   "source": [
    "plt.imshow(mine, clim=(-4, 12), interpolation='none')\n",
    "plt.colorbar()\n",
    "\n",
    "### VOTRE CODE PULP ###\n",
    "\n",
    "# New problem \n",
    "prob = pulp.LpProblem(\"Mines\", pulp.LpMaximize)\n",
    "\n",
    "# Decision variables\n",
    "extract = np.empty((levels,columns), dtype=object)\n",
    "for i in range(levels):\n",
    "    for j in range(columns):\n",
    "        extract[i,j] = pulp.LpVariable('extract_{}_{}'.format(i,j), cat='Continuous', lowBound=0, upBound=1)\n",
    "\n",
    "\n",
    "# Constraints\n",
    "for i in range(1,levels):\n",
    "    for j in range(1, columns-1):\n",
    "        prob += extract[i,j] <= extract[i-1,j-1]\n",
    "        prob += extract[i,j] <= extract[i-1,j]\n",
    "        prob += extract[i,j] <= extract[i-1,j+1]\n",
    "\n",
    "# Objective function\n",
    "prob += pulp.lpSum(mine * extract)\n",
    "\n",
    "# Problem solving\n",
    "status = prob.solve()\n",
    "print(\"Status: \",pulp.LpStatus[status])\n",
    "\n",
    "# Optimum values\n",
    "assert pulp.LpStatus[prob.solve()] == 'Optimal'\n",
    "\n",
    "print(\"Variables: \", end=' ')\n",
    "for i in range(levels):\n",
    "    for j in range(columns):\n",
    "        print(pulp.value(extract[i,j]), end=' ')\n",
    "print()\n",
    "\n",
    "print(\"Objective: \",pulp.value(prob.objective))\n",
    "\n",
    "\n",
    "### COMPLEMENT POUR TRACER LE CONTOUR ###\n",
    "extraction = [ [extract[i, j].value() for j in range(columns)] for i in range(levels)]\n",
    "plt.contour(extraction, levels=[0], cmap=plt.cm.binary)\n",
    "\n",
    "prob.objective.value()\n",
    "somme = 0\n",
    "for i in range(levels):\n",
    "    for j in range(columns):\n",
    "        somme += extract[i,j].value()\n",
    "print(somme)"
   ]
  },
  {
   "cell_type": "markdown",
   "metadata": {},
   "source": [
    "<div class=\"alert alert-warning\"> \n",
    "    \n",
    "**Question :**<br>\n",
    "Affichez les résultats pertinents.  \n",
    "Que peut-on conclure sur le problème de contour optimal ?\n",
    "<div>"
   ]
  },
  {
   "cell_type": "markdown",
   "metadata": {},
   "source": [
    "<div class=\"alert alert-danger\">\n",
    "    \n",
    "**Réponse** :<br>\n",
    " \n",
    "</div>"
   ]
  },
  {
   "cell_type": "markdown",
   "metadata": {},
   "source": [
    "## 2. Détermination de la séquence annuelle de minage\n",
    "Ce problème de planification stratégique consiste à trouver les blocs qui seront extraits chaque\n",
    "année. Ceci revient à déterminer le contour de la mine chaque année. Ce problème est beaucoup plus\n",
    "difficile que le problème du contour ultime, car il ne suffit plus de déterminer si un bloc est extrait\n",
    "ou non, il faut en plus savoir quelle année il sera extrait. De plus, il faut tenir compte de contraintes\n",
    "additionnelles telles que la quantité minimale ou maximale de matière qui peut être extraite chaque\n",
    "année ou l'utilisation des équipements. \n",
    "\n",
    "### 2.1 Planification avec contrainte de capacité\n",
    "On considère uniquement une limite maximum sur le nombre de blocs qu'on peut extraire chaque année, fixée à 20 blocs. Pour modéliser le problème en PLNE, il faut ajouter la dimension temporelle au problème du contour ultime."
   ]
  },
  {
   "cell_type": "markdown",
   "metadata": {},
   "source": [
    "<div class=\"alert alert-warning\"> \n",
    "    \n",
    "**Question :**<br>\n",
    "Quel est le nombre d'année minimum pour extraire les blocs de la solution précédente ?\n",
    "<div>"
   ]
  },
  {
   "cell_type": "markdown",
   "metadata": {},
   "source": [
    "<div class=\"alert alert-danger\">\n",
    "\n",
    "**Réponse** : Il y a 58 blocs à extraire, donc 3 ans.<br>\n",
    " \n",
    "</div>"
   ]
  },
  {
   "cell_type": "markdown",
   "metadata": {},
   "source": [
    "<div class=\"alert alert-warning\">\n",
    "    \n",
    "**Question :**<br>\n",
    "Proposer de nouvelles variables d'extraction qui permettent de repérer si un bloc est extrait ou non l'année $n$.  \n",
    "<div>"
   ]
  },
  {
   "cell_type": "markdown",
   "metadata": {},
   "source": [
    "<div class=\"alert alert-danger\">\n",
    "\n",
    "**Réponse** : $extraction_{i,j,n}=0$ ou $1$<br>Une fois que $extraction_{i,j,n}=1$, alors la variable restera toujours égale à $1$\n",
    " \n",
    "</div>"
   ]
  },
  {
   "cell_type": "markdown",
   "metadata": {},
   "source": [
    "<div class=\"alert alert-warning\"> \n",
    "    \n",
    "**Question :**<br>\n",
    "Récrire les contraintes d'extraction et la fonction objectif. Attention, un bloc extrait l'année $n$ le reste les années suivantes.\n",
    "<div>"
   ]
  },
  {
   "cell_type": "markdown",
   "metadata": {},
   "source": [
    "<div class=\"alert alert-danger\">\n",
    "\n",
    "**Réponse** :$$extract_{i,j,n}\\geq extract_{i,j,n-1}$$<br>$$\\displaystyle 3\\times extract_{i,j,n} \\leq\\sum_{j'=j-1}^{j+1} extract_{i-1,j',n} $$ $$\\sum_{i,j} extract_{i,j,n}-\\sum_{i,j} extract_{i,j,n-1}\\leq 20$$\n",
    " \n",
    "</div>"
   ]
  },
  {
   "cell_type": "markdown",
   "metadata": {},
   "source": [
    "<div class=\"alert alert-warning\"> \n",
    "    \n",
    "**Question :**<br>\n",
    "Ecrire le code Pulp permettant de résoudre le problème de planification\n",
    "\n",
    "<div>"
   ]
  },
  {
   "cell_type": "code",
   "execution_count": 66,
   "metadata": {
    "scrolled": true
   },
   "outputs": [
    {
     "name": "stdout",
     "output_type": "stream",
     "text": [
      "Status:  Optimal\n",
      "Variables:  0.0 1.0 1.0 0.0 1.0 1.0 0.0 1.0 1.0 1.0 1.0 1.0 1.0 1.0 1.0 1.0 1.0 1.0 1.0 1.0 1.0 0.0 1.0 1.0 0.0 1.0 1.0 1.0 1.0 1.0 1.0 1.0 1.0 1.0 1.0 1.0 0.0 1.0 1.0 1.0 1.0 1.0 0.0 1.0 1.0 0.0 0.0 0.0 0.0 0.0 0.0 0.0 0.0 0.0 0.0 0.0 0.0 0.0 1.0 1.0 1.0 1.0 1.0 1.0 1.0 1.0 0.0 1.0 1.0 1.0 1.0 1.0 0.0 1.0 1.0 0.0 1.0 1.0 0.0 1.0 1.0 1.0 1.0 1.0 0.0 1.0 1.0 0.0 1.0 1.0 0.0 0.0 1.0 0.0 0.0 1.0 0.0 0.0 0.0 0.0 0.0 0.0 0.0 0.0 0.0 0.0 0.0 0.0 0.0 0.0 0.0 0.0 0.0 0.0 0.0 0.0 0.0 0.0 0.0 1.0 1.0 1.0 1.0 0.0 1.0 1.0 1.0 1.0 1.0 1.0 1.0 1.0 0.0 1.0 1.0 0.0 1.0 1.0 0.0 1.0 1.0 0.0 0.0 1.0 0.0 0.0 1.0 0.0 0.0 0.0 0.0 0.0 0.0 0.0 0.0 0.0 0.0 0.0 0.0 0.0 0.0 0.0 0.0 0.0 0.0 0.0 0.0 0.0 0.0 0.0 0.0 0.0 0.0 0.0 0.0 0.0 1.0 0.0 0.0 1.0 0.0 1.0 1.0 1.0 1.0 1.0 1.0 1.0 1.0 1.0 1.0 1.0 0.0 0.0 1.0 0.0 0.0 1.0 0.0 0.0 0.0 0.0 0.0 0.0 0.0 0.0 0.0 0.0 0.0 0.0 0.0 0.0 0.0 0.0 0.0 0.0 0.0 0.0 0.0 0.0 0.0 0.0 0.0 0.0 0.0 0.0 0.0 0.0 0.0 0.0 0.0 0.0 0.0 1.0 0.0 0.0 1.0 1.0 1.0 1.0 1.0 1.0 1.0 0.0 0.0 1.0 0.0 0.0 1.0 0.0 0.0 0.0 0.0 0.0 0.0 0.0 0.0 0.0 0.0 0.0 0.0 0.0 0.0 0.0 0.0 0.0 0.0 0.0 0.0 0.0 0.0 0.0 0.0 0.0 0.0 0.0 0.0 0.0 0.0 0.0 0.0 0.0 0.0 0.0 0.0 0.0 0.0 0.0 0.0 0.0 1.0 0.0 0.0 1.0 0.0 0.0 1.0 0.0 0.0 1.0 0.0 0.0 0.0 0.0 0.0 0.0 0.0 0.0 0.0 0.0 0.0 0.0 0.0 0.0 0.0 0.0 0.0 0.0 0.0 0.0 0.0 0.0 0.0 0.0 0.0 0.0 0.0 0.0 0.0 0.0 0.0 0.0 0.0 0.0 0.0 0.0 0.0 0.0 0.0 0.0 0.0 0.0 0.0 0.0 0.0 0.0 0.0 1.0 0.0 0.0 1.0 0.0 0.0 0.0 0.0 0.0 0.0 0.0 0.0 0.0 0.0 0.0 0.0 0.0 0.0 0.0 0.0 0.0 0.0 0.0 0.0 0.0 0.0 0.0 0.0 0.0 0.0 0.0 0.0 0.0 0.0 0.0 0.0 0.0 0.0 0.0 0.0 0.0 0.0 0.0 0.0 0.0 0.0 0.0 0.0 0.0 0.0 0.0 0.0 0.0 0.0 0.0 0.0 0.0 0.0 0.0 0.0 0.0 0.0 0.0 0.0 0.0 0.0 0.0 0.0 0.0 0.0 0.0 0.0 0.0 0.0 0.0 0.0 0.0 0.0 0.0 0.0 0.0 0.0 0.0 0.0 0.0 \n",
      "Objective:  137.0\n",
      "58.0\n"
     ]
    },
    {
     "name": "stderr",
     "output_type": "stream",
     "text": [
      "<ipython-input-66-e51a07c7e794>:67: UserWarning: No contour levels were found within the data range.\n",
      "  plt.contour(extraction, levels=[0], cmap=plt.cm.binary)\n"
     ]
    },
    {
     "data": {
      "image/png": "[encoded data removed]",
      "text/plain": [
       "<Figure size 432x288 with 2 Axes>"
      ]
     },
     "metadata": {
      "needs_background": "light"
     },
     "output_type": "display_data"
    }
   ],
   "source": [
    "### VOTRE CODE PULP ###\n",
    "\n",
    "plt.imshow(mine, clim=(-4, 12), interpolation='none')\n",
    "plt.colorbar()\n",
    "\n",
    "### VOTRE CODE PULP ###\n",
    "\n",
    "# New problem \n",
    "prob = pulp.LpProblem(\"Mines\", pulp.LpMaximize)\n",
    "\n",
    "n_max = 3\n",
    "\n",
    "# Decision variables\n",
    "extract = np.empty((levels,columns, n_max), dtype=object)\n",
    "for i in range(levels):\n",
    "    for j in range(columns):\n",
    "        for n in range(n_max):\n",
    "            extract[i,j,n] = pulp.LpVariable('extract_{}_{}_{}'.format(i,j,n), cat=pulp.LpBinary)\n",
    "\n",
    "\n",
    "# Constraints\n",
    "for n in range(1,n_max):\n",
    "    for i in range(1,levels):\n",
    "        prob += extract[i,0,n] <= extract[i-1,0,n]\n",
    "        prob += extract[i,0,n] <= extract[i-1,1,n]\n",
    "        prob += extract[i,columns-1,n] <= extract[i-1,columns-1,n]\n",
    "        prob += extract[i,columns-1,n] <= extract[i-1,columns-2,n]\n",
    "        for j in range(1, columns-1):\n",
    "            prob += extract[i,j,n] <= extract[i-1,j-1,n]\n",
    "            prob += extract[i,j,n] <= extract[i-1,j,n]\n",
    "            prob += extract[i,j,n] <= extract[i-1,j+1,n]\n",
    "\n",
    "for n in range(1,n_max):\n",
    "    for i in range(levels):\n",
    "        for j in range(columns):       \n",
    "            prob += extract[i,j,n] >= extract[i,j,n-1]\n",
    "            \n",
    "prob += pulp.lpSum(extract[:,:,0]) <= 20\n",
    "for n in range(1,n_max):\n",
    "    prob += pulp.lpSum(extract[:,:,n])-pulp.lpSum(extract[:,:,n-1]) <= 20\n",
    "\n",
    "# Objective function\n",
    "prob += pulp.lpSum(mine * extract[:,:,n_max-1])\n",
    "\n",
    "# Problem solving\n",
    "status = prob.solve()\n",
    "print(\"Status: \",pulp.LpStatus[status])\n",
    "\n",
    "# Optimum values\n",
    "assert pulp.LpStatus[prob.solve()] == 'Optimal'\n",
    "\n",
    "print(\"Variables: \", end=' ')\n",
    "for i in range(levels):\n",
    "    for j in range(columns):\n",
    "        for n in range(n_max):\n",
    "            print(pulp.value(extract[i,j,n]), end=' ')\n",
    "print()\n",
    "\n",
    "print(\"Objective: \",pulp.value(prob.objective))\n",
    "\n",
    "\n",
    "### COMPLEMENT POUR TRACER LE CONTOUR ###\n",
    "\n",
    "# extraction = [ [extract[i, j, n_max-1].value() for j in range(columns)] for i in range(levels)]\n",
    "# plt.contour(extraction, levels=[0], cmap=plt.cm.binary)\n",
    "extraction = [ [extract[i, j, n_max-2].value() for j in range(columns)] for i in range(levels)]\n",
    "plt.contour(extraction, levels=[0], cmap=plt.cm.binary)\n",
    "#extraction = [ [extract[i, j, n_max-3].value() for j in range(columns)] for i in range(levels)]\n",
    "#plt.contour(extraction, levels=[0], cmap=plt.cm.binary)\n",
    "\n",
    "\n",
    "prob.objective.value()\n",
    "somme = 0\n",
    "for i in range(levels):\n",
    "    for j in range(columns):\n",
    "        somme += extract[i,j,n_max-1].value()\n",
    "print(somme)\n"
   ]
  },
  {
   "cell_type": "markdown",
   "metadata": {},
   "source": [
    "<div class=\"alert alert-warning\"> \n",
    "    \n",
    "**Question :**<br>\n",
    "Commentez les résultats obtenus.\n",
    "<div>"
   ]
  },
  {
   "cell_type": "markdown",
   "metadata": {},
   "source": [
    "<div class=\"alert alert-danger\">\n",
    "\n",
    "**Réponse** :<br>\n",
    " \n",
    "</div>"
   ]
  },
  {
   "cell_type": "markdown",
   "metadata": {},
   "source": [
    "### 2.2 Planification avec contrainte de capacité et actualisation\n",
    "Même problème que précédemment, mais on prend en compte la notion d'actualisation. On considère un taux d'actualisation de $9\\%$: le bloc $(i,j)$ extrait l'année $k$ avec un bénéfice de $mine(i,j)$ rapportera seulement $mine(i,j)/(1+0,09)$ l'année suivante.\n"
   ]
  },
  {
   "cell_type": "markdown",
   "metadata": {},
   "source": [
    "<div class=\"alert alert-warning\"> \n",
    "    \n",
    "**Question :**<br>\n",
    "Ecrire le code Pulp permettant de résoudre le problème de planification\n",
    "\n",
    "<div>"
   ]
  },
  {
   "cell_type": "code",
   "execution_count": null,
   "metadata": {
    "scrolled": true
   },
   "outputs": [],
   "source": [
    "### VOTRE CODE PULP ###\n"
   ]
  },
  {
   "cell_type": "markdown",
   "metadata": {},
   "source": [
    "<div class=\"alert alert-warning\"> \n",
    "    \n",
    "**Question :**<br>\n",
    "Commentez les résultats obtenus.\n",
    "<div>"
   ]
  },
  {
   "cell_type": "markdown",
   "metadata": {},
   "source": [
    "<div class=\"alert alert-danger\">\n",
    "\n",
    "**Réponse** :<br>\n",
    " \n",
    "</div>"
   ]
  }
 ],
 "metadata": {
  "kernelspec": {
   "display_name": "Python 3",
   "language": "python",
   "name": "python3"
  },
  "language_info": {
   "codemirror_mode": {
    "name": "ipython",
    "version": 3
   },
   "file_extension": ".py",
   "mimetype": "text/x-python",
   "name": "python",
   "nbconvert_exporter": "python",
   "pygments_lexer": "ipython3",
   "version": "3.8.3-final"
  }
 },
 "nbformat": 4,
 "nbformat_minor": 1
}